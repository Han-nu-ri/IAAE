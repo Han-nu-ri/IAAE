{
 "cells": [
  {
   "cell_type": "code",
   "execution_count": 1,
   "id": "fd9c38a9-346b-4802-8c8c-b04dfa4caf86",
   "metadata": {},
   "outputs": [],
   "source": [
    "import data_helper"
   ]
  },
  {
   "cell_type": "code",
   "execution_count": 6,
   "id": "6d9b3eac-38c8-4ae0-81b4-68d3dbc35fec",
   "metadata": {},
   "outputs": [],
   "source": [
    "train_loader, _ = data_helper.get_ffhq_thumbnails(128, 32)"
   ]
  },
  {
   "cell_type": "code",
   "execution_count": 7,
   "id": "2b803c50-f203-40c0-8d71-8a65025d03b4",
   "metadata": {},
   "outputs": [
    {
     "data": {
      "text/plain": [
       "Dataset ImageFolder\n",
       "    Number of datapoints: 70000\n",
       "    Root Location: ../../dataset/FFHQ/\n",
       "    Transforms (if any): Compose(\n",
       "                             Resize(size=(32, 32), interpolation=PIL.Image.BILINEAR)\n",
       "                             ToTensor()\n",
       "                             CenterCrop(size=(32, 32))\n",
       "                             Normalize(mean=(0.5, 0.5, 0.5), std=(0.5, 0.5, 0.5))\n",
       "                         )\n",
       "    Target Transforms (if any): None"
      ]
     },
     "execution_count": 7,
     "metadata": {},
     "output_type": "execute_result"
    }
   ],
   "source": [
    "train_loader.dataset"
   ]
  },
  {
   "cell_type": "code",
   "execution_count": null,
   "id": "11a98f44-f419-45db-a4a9-a4c4c9652b94",
   "metadata": {},
   "outputs": [],
   "source": []
  }
 ],
 "metadata": {
  "kernelspec": {
   "display_name": "stylegan2",
   "language": "python",
   "name": "stylegan2"
  },
  "language_info": {
   "codemirror_mode": {
    "name": "ipython",
    "version": 3
   },
   "file_extension": ".py",
   "mimetype": "text/x-python",
   "name": "python",
   "nbconvert_exporter": "python",
   "pygments_lexer": "ipython3",
   "version": "3.9.5"
  }
 },
 "nbformat": 4,
 "nbformat_minor": 5
}
